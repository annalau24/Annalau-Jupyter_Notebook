{
  "metadata": {
    "language_info": {
      "codemirror_mode": {
        "name": "python",
        "version": 3
      },
      "file_extension": ".py",
      "mimetype": "text/x-python",
      "name": "python",
      "nbconvert_exporter": "python",
      "pygments_lexer": "ipython3",
      "version": "3.8"
    },
    "kernelspec": {
      "name": "python",
      "display_name": "Python (Pyodide)",
      "language": "python"
    }
  },
  "nbformat_minor": 4,
  "nbformat": 4,
  "cells": [
    {
      "cell_type": "code",
      "source": "\nclass Persona:\n    def __init__(self, nombre, edad):\n        # Método constructor para inicializar los atributos\n        self.nombre = nombre\n        self.edad = edad\n\n    @property\n    def obtener_nombre(self):\n        # Propiedad para obtener el nombre\n        return self.nombre\n\n    @property\n    def obtener_edad(self):\n        # Propiedad para obtener la edad\n        return self.edad\n\n    def presentarse(self):\n        # Método para que la persona se presente\n        print(f\"Hola, mi nombre es {self.nombre} y tengo {self.edad} años.\")\n\n\npersona1 = Persona(nombre=\"Juan\", edad=25)\n\n\nprint(f\"Nombre: {persona1.obtener_nombre}\")\nprint(f\"Edad: {persona1.obtener_edad}\")\npersona1.presentarse()\n",
      "metadata": {
        "trusted": true
      },
      "execution_count": 1,
      "outputs": [
        {
          "name": "stdout",
          "text": "Nombre: Juan\nEdad: 25\nHola, mi nombre es Juan y tengo 25 años.\n",
          "output_type": "stream"
        }
      ]
    },
    {
      "cell_type": "code",
      "source": "",
      "metadata": {},
      "execution_count": null,
      "outputs": []
    }
  ]
}